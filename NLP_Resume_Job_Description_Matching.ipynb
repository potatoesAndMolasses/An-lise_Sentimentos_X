{
  "cells": [
    {
      "cell_type": "markdown",
      "metadata": {
        "id": "view-in-github",
        "colab_type": "text"
      },
      "source": [
        "<a href=\"https://colab.research.google.com/github/potatoesAndMolasses/An-lise_Sentimentos_X/blob/main/NLP_Resume_Job_Description_Matching.ipynb\" target=\"_parent\"><img src=\"https://colab.research.google.com/assets/colab-badge.svg\" alt=\"Open In Colab\"/></a>"
      ]
    },
    {
      "cell_type": "code",
      "source": [
        "import numpy as np\n",
        "import pandas as pd\n",
        "import seaborn as sns\n",
        "import matplotlib.pyplot as plt\n",
        "import kagglehub\n",
        "import os"
      ],
      "metadata": {
        "id": "xoTwX3WSVZvC"
      },
      "execution_count": 2,
      "outputs": []
    },
    {
      "cell_type": "code",
      "source": [
        "pip install nltk"
      ],
      "metadata": {
        "colab": {
          "base_uri": "https://localhost:8080/"
        },
        "id": "dqx-ToVeVs8C",
        "outputId": "aa7828da-4220-4348-93e4-8e506437b874"
      },
      "execution_count": 4,
      "outputs": [
        {
          "output_type": "stream",
          "name": "stdout",
          "text": [
            "Requirement already satisfied: nltk in /usr/local/lib/python3.11/dist-packages (3.9.1)\n",
            "Requirement already satisfied: click in /usr/local/lib/python3.11/dist-packages (from nltk) (8.1.8)\n",
            "Requirement already satisfied: joblib in /usr/local/lib/python3.11/dist-packages (from nltk) (1.4.2)\n",
            "Requirement already satisfied: regex>=2021.8.3 in /usr/local/lib/python3.11/dist-packages (from nltk) (2024.11.6)\n",
            "Requirement already satisfied: tqdm in /usr/local/lib/python3.11/dist-packages (from nltk) (4.67.1)\n"
          ]
        }
      ]
    },
    {
      "cell_type": "code",
      "source": [
        "# Base de dados\n",
        "path = kagglehub.dataset_download(\"shreya2k3/resume-job-description-matching\")\n",
        "os.environ['KAGGLE_CONFIG_DIR'] = '/content'\n",
        "print(\"Path to dataset files:\", path)\n",
        "os.listdir(path)"
      ],
      "metadata": {
        "colab": {
          "base_uri": "https://localhost:8080/"
        },
        "id": "2l3hraQWVkl-",
        "outputId": "9dc70f7e-6dfd-4441-e213-39266c52068e"
      },
      "execution_count": 5,
      "outputs": [
        {
          "output_type": "stream",
          "name": "stdout",
          "text": [
            "Warning: Looks like you're using an outdated `kagglehub` version (installed: 0.3.7), please consider upgrading to the latest version (0.3.8).\n",
            "Path to dataset files: /root/.cache/kagglehub/datasets/shreya2k3/resume-job-description-matching/versions/1\n"
          ]
        },
        {
          "output_type": "execute_result",
          "data": {
            "text/plain": [
              "['train.csv']"
            ]
          },
          "metadata": {},
          "execution_count": 5
        }
      ]
    },
    {
      "cell_type": "code",
      "source": [
        "path = '/root/.cache/kagglehub/datasets/shreya2k3/resume-job-description-matching/versions/1'\n",
        "df = pd.read_csv(path + '/train.csv')\n",
        "df.head()"
      ],
      "metadata": {
        "colab": {
          "base_uri": "https://localhost:8080/",
          "height": 206
        },
        "id": "pLbtmdjEV4HN",
        "outputId": "e8df083e-59ac-417b-8058-e52bf709dbf2"
      },
      "execution_count": 6,
      "outputs": [
        {
          "output_type": "execute_result",
          "data": {
            "text/plain": [
              "                                         resume_text  \\\n",
              "0  SummaryHighly motivated Sales Associate with e...   \n",
              "1  Professional SummaryCurrently working with Cat...   \n",
              "2  SummaryI started my construction career in Jun...   \n",
              "3  SummaryCertified Electrical Foremanwith thirte...   \n",
              "4  SummaryWith extensive experience in business/r...   \n",
              "\n",
              "                                job_description_text   label  \n",
              "0  Net2Source Inc. is an award-winning total work...  No Fit  \n",
              "1  At Salas OBrien we tell our clients that were ...  No Fit  \n",
              "2  Schweitzer Engineering Laboratories (SEL) Infr...  No Fit  \n",
              "3  Mizick Miller & Company, Inc. is looking for a...  No Fit  \n",
              "4  Life at Capgemini\\nCapgemini supports all aspe...  No Fit  "
            ],
            "text/html": [
              "\n",
              "  <div id=\"df-0a06a49a-9605-4574-bb40-0968d57d90ab\" class=\"colab-df-container\">\n",
              "    <div>\n",
              "<style scoped>\n",
              "    .dataframe tbody tr th:only-of-type {\n",
              "        vertical-align: middle;\n",
              "    }\n",
              "\n",
              "    .dataframe tbody tr th {\n",
              "        vertical-align: top;\n",
              "    }\n",
              "\n",
              "    .dataframe thead th {\n",
              "        text-align: right;\n",
              "    }\n",
              "</style>\n",
              "<table border=\"1\" class=\"dataframe\">\n",
              "  <thead>\n",
              "    <tr style=\"text-align: right;\">\n",
              "      <th></th>\n",
              "      <th>resume_text</th>\n",
              "      <th>job_description_text</th>\n",
              "      <th>label</th>\n",
              "    </tr>\n",
              "  </thead>\n",
              "  <tbody>\n",
              "    <tr>\n",
              "      <th>0</th>\n",
              "      <td>SummaryHighly motivated Sales Associate with e...</td>\n",
              "      <td>Net2Source Inc. is an award-winning total work...</td>\n",
              "      <td>No Fit</td>\n",
              "    </tr>\n",
              "    <tr>\n",
              "      <th>1</th>\n",
              "      <td>Professional SummaryCurrently working with Cat...</td>\n",
              "      <td>At Salas OBrien we tell our clients that were ...</td>\n",
              "      <td>No Fit</td>\n",
              "    </tr>\n",
              "    <tr>\n",
              "      <th>2</th>\n",
              "      <td>SummaryI started my construction career in Jun...</td>\n",
              "      <td>Schweitzer Engineering Laboratories (SEL) Infr...</td>\n",
              "      <td>No Fit</td>\n",
              "    </tr>\n",
              "    <tr>\n",
              "      <th>3</th>\n",
              "      <td>SummaryCertified Electrical Foremanwith thirte...</td>\n",
              "      <td>Mizick Miller &amp; Company, Inc. is looking for a...</td>\n",
              "      <td>No Fit</td>\n",
              "    </tr>\n",
              "    <tr>\n",
              "      <th>4</th>\n",
              "      <td>SummaryWith extensive experience in business/r...</td>\n",
              "      <td>Life at Capgemini\\nCapgemini supports all aspe...</td>\n",
              "      <td>No Fit</td>\n",
              "    </tr>\n",
              "  </tbody>\n",
              "</table>\n",
              "</div>\n",
              "    <div class=\"colab-df-buttons\">\n",
              "\n",
              "  <div class=\"colab-df-container\">\n",
              "    <button class=\"colab-df-convert\" onclick=\"convertToInteractive('df-0a06a49a-9605-4574-bb40-0968d57d90ab')\"\n",
              "            title=\"Convert this dataframe to an interactive table.\"\n",
              "            style=\"display:none;\">\n",
              "\n",
              "  <svg xmlns=\"http://www.w3.org/2000/svg\" height=\"24px\" viewBox=\"0 -960 960 960\">\n",
              "    <path d=\"M120-120v-720h720v720H120Zm60-500h600v-160H180v160Zm220 220h160v-160H400v160Zm0 220h160v-160H400v160ZM180-400h160v-160H180v160Zm440 0h160v-160H620v160ZM180-180h160v-160H180v160Zm440 0h160v-160H620v160Z\"/>\n",
              "  </svg>\n",
              "    </button>\n",
              "\n",
              "  <style>\n",
              "    .colab-df-container {\n",
              "      display:flex;\n",
              "      gap: 12px;\n",
              "    }\n",
              "\n",
              "    .colab-df-convert {\n",
              "      background-color: #E8F0FE;\n",
              "      border: none;\n",
              "      border-radius: 50%;\n",
              "      cursor: pointer;\n",
              "      display: none;\n",
              "      fill: #1967D2;\n",
              "      height: 32px;\n",
              "      padding: 0 0 0 0;\n",
              "      width: 32px;\n",
              "    }\n",
              "\n",
              "    .colab-df-convert:hover {\n",
              "      background-color: #E2EBFA;\n",
              "      box-shadow: 0px 1px 2px rgba(60, 64, 67, 0.3), 0px 1px 3px 1px rgba(60, 64, 67, 0.15);\n",
              "      fill: #174EA6;\n",
              "    }\n",
              "\n",
              "    .colab-df-buttons div {\n",
              "      margin-bottom: 4px;\n",
              "    }\n",
              "\n",
              "    [theme=dark] .colab-df-convert {\n",
              "      background-color: #3B4455;\n",
              "      fill: #D2E3FC;\n",
              "    }\n",
              "\n",
              "    [theme=dark] .colab-df-convert:hover {\n",
              "      background-color: #434B5C;\n",
              "      box-shadow: 0px 1px 3px 1px rgba(0, 0, 0, 0.15);\n",
              "      filter: drop-shadow(0px 1px 2px rgba(0, 0, 0, 0.3));\n",
              "      fill: #FFFFFF;\n",
              "    }\n",
              "  </style>\n",
              "\n",
              "    <script>\n",
              "      const buttonEl =\n",
              "        document.querySelector('#df-0a06a49a-9605-4574-bb40-0968d57d90ab button.colab-df-convert');\n",
              "      buttonEl.style.display =\n",
              "        google.colab.kernel.accessAllowed ? 'block' : 'none';\n",
              "\n",
              "      async function convertToInteractive(key) {\n",
              "        const element = document.querySelector('#df-0a06a49a-9605-4574-bb40-0968d57d90ab');\n",
              "        const dataTable =\n",
              "          await google.colab.kernel.invokeFunction('convertToInteractive',\n",
              "                                                    [key], {});\n",
              "        if (!dataTable) return;\n",
              "\n",
              "        const docLinkHtml = 'Like what you see? Visit the ' +\n",
              "          '<a target=\"_blank\" href=https://colab.research.google.com/notebooks/data_table.ipynb>data table notebook</a>'\n",
              "          + ' to learn more about interactive tables.';\n",
              "        element.innerHTML = '';\n",
              "        dataTable['output_type'] = 'display_data';\n",
              "        await google.colab.output.renderOutput(dataTable, element);\n",
              "        const docLink = document.createElement('div');\n",
              "        docLink.innerHTML = docLinkHtml;\n",
              "        element.appendChild(docLink);\n",
              "      }\n",
              "    </script>\n",
              "  </div>\n",
              "\n",
              "\n",
              "<div id=\"df-0501fd6d-205d-411e-ab70-b44bf2851e21\">\n",
              "  <button class=\"colab-df-quickchart\" onclick=\"quickchart('df-0501fd6d-205d-411e-ab70-b44bf2851e21')\"\n",
              "            title=\"Suggest charts\"\n",
              "            style=\"display:none;\">\n",
              "\n",
              "<svg xmlns=\"http://www.w3.org/2000/svg\" height=\"24px\"viewBox=\"0 0 24 24\"\n",
              "     width=\"24px\">\n",
              "    <g>\n",
              "        <path d=\"M19 3H5c-1.1 0-2 .9-2 2v14c0 1.1.9 2 2 2h14c1.1 0 2-.9 2-2V5c0-1.1-.9-2-2-2zM9 17H7v-7h2v7zm4 0h-2V7h2v10zm4 0h-2v-4h2v4z\"/>\n",
              "    </g>\n",
              "</svg>\n",
              "  </button>\n",
              "\n",
              "<style>\n",
              "  .colab-df-quickchart {\n",
              "      --bg-color: #E8F0FE;\n",
              "      --fill-color: #1967D2;\n",
              "      --hover-bg-color: #E2EBFA;\n",
              "      --hover-fill-color: #174EA6;\n",
              "      --disabled-fill-color: #AAA;\n",
              "      --disabled-bg-color: #DDD;\n",
              "  }\n",
              "\n",
              "  [theme=dark] .colab-df-quickchart {\n",
              "      --bg-color: #3B4455;\n",
              "      --fill-color: #D2E3FC;\n",
              "      --hover-bg-color: #434B5C;\n",
              "      --hover-fill-color: #FFFFFF;\n",
              "      --disabled-bg-color: #3B4455;\n",
              "      --disabled-fill-color: #666;\n",
              "  }\n",
              "\n",
              "  .colab-df-quickchart {\n",
              "    background-color: var(--bg-color);\n",
              "    border: none;\n",
              "    border-radius: 50%;\n",
              "    cursor: pointer;\n",
              "    display: none;\n",
              "    fill: var(--fill-color);\n",
              "    height: 32px;\n",
              "    padding: 0;\n",
              "    width: 32px;\n",
              "  }\n",
              "\n",
              "  .colab-df-quickchart:hover {\n",
              "    background-color: var(--hover-bg-color);\n",
              "    box-shadow: 0 1px 2px rgba(60, 64, 67, 0.3), 0 1px 3px 1px rgba(60, 64, 67, 0.15);\n",
              "    fill: var(--button-hover-fill-color);\n",
              "  }\n",
              "\n",
              "  .colab-df-quickchart-complete:disabled,\n",
              "  .colab-df-quickchart-complete:disabled:hover {\n",
              "    background-color: var(--disabled-bg-color);\n",
              "    fill: var(--disabled-fill-color);\n",
              "    box-shadow: none;\n",
              "  }\n",
              "\n",
              "  .colab-df-spinner {\n",
              "    border: 2px solid var(--fill-color);\n",
              "    border-color: transparent;\n",
              "    border-bottom-color: var(--fill-color);\n",
              "    animation:\n",
              "      spin 1s steps(1) infinite;\n",
              "  }\n",
              "\n",
              "  @keyframes spin {\n",
              "    0% {\n",
              "      border-color: transparent;\n",
              "      border-bottom-color: var(--fill-color);\n",
              "      border-left-color: var(--fill-color);\n",
              "    }\n",
              "    20% {\n",
              "      border-color: transparent;\n",
              "      border-left-color: var(--fill-color);\n",
              "      border-top-color: var(--fill-color);\n",
              "    }\n",
              "    30% {\n",
              "      border-color: transparent;\n",
              "      border-left-color: var(--fill-color);\n",
              "      border-top-color: var(--fill-color);\n",
              "      border-right-color: var(--fill-color);\n",
              "    }\n",
              "    40% {\n",
              "      border-color: transparent;\n",
              "      border-right-color: var(--fill-color);\n",
              "      border-top-color: var(--fill-color);\n",
              "    }\n",
              "    60% {\n",
              "      border-color: transparent;\n",
              "      border-right-color: var(--fill-color);\n",
              "    }\n",
              "    80% {\n",
              "      border-color: transparent;\n",
              "      border-right-color: var(--fill-color);\n",
              "      border-bottom-color: var(--fill-color);\n",
              "    }\n",
              "    90% {\n",
              "      border-color: transparent;\n",
              "      border-bottom-color: var(--fill-color);\n",
              "    }\n",
              "  }\n",
              "</style>\n",
              "\n",
              "  <script>\n",
              "    async function quickchart(key) {\n",
              "      const quickchartButtonEl =\n",
              "        document.querySelector('#' + key + ' button');\n",
              "      quickchartButtonEl.disabled = true;  // To prevent multiple clicks.\n",
              "      quickchartButtonEl.classList.add('colab-df-spinner');\n",
              "      try {\n",
              "        const charts = await google.colab.kernel.invokeFunction(\n",
              "            'suggestCharts', [key], {});\n",
              "      } catch (error) {\n",
              "        console.error('Error during call to suggestCharts:', error);\n",
              "      }\n",
              "      quickchartButtonEl.classList.remove('colab-df-spinner');\n",
              "      quickchartButtonEl.classList.add('colab-df-quickchart-complete');\n",
              "    }\n",
              "    (() => {\n",
              "      let quickchartButtonEl =\n",
              "        document.querySelector('#df-0501fd6d-205d-411e-ab70-b44bf2851e21 button');\n",
              "      quickchartButtonEl.style.display =\n",
              "        google.colab.kernel.accessAllowed ? 'block' : 'none';\n",
              "    })();\n",
              "  </script>\n",
              "</div>\n",
              "\n",
              "    </div>\n",
              "  </div>\n"
            ],
            "application/vnd.google.colaboratory.intrinsic+json": {
              "type": "dataframe",
              "variable_name": "df",
              "summary": "{\n  \"name\": \"df\",\n  \"rows\": 6241,\n  \"fields\": [\n    {\n      \"column\": \"resume_text\",\n      \"properties\": {\n        \"dtype\": \"category\",\n        \"num_unique_values\": 642,\n        \"samples\": [\n          \"SummaryTo work for an engineering firm in the electrical and/or control systems discipline\\nEducationUniversity of Houston DowntownHouston,TexasExpected in2004\\u2013\\u2013Graduate:Bachelors of Science: Engineering Technology (BSET) in Controls and Instrumentation Electronics-GPA:Summa Cum LaudeGraduated Summa Cum Laude.University of HoustonHouston,TexasExpected in\\u2013\\u2013:Bachelors of Science in Electrical Engineering (BSEE)-GPA:Completed course-work toward Electrical and Computer Engineering major (1996 - 2001).\\nExperienceJacobs Engineering Inc-Lead Electrical Engineer for the CSM ProjectCity,STATE,08/2008-07/2014Supported and contributed to Phases I, II III, and IV of the Electrical and Control Systems Design for the Control Systems Move (CSM) Project that includes re-engineering and moving existing process control equipment into a new central control building and new blast resistant modules at Marathon Petroleum's Galveston Bay Refinery in Texas City (US 3rd largest).Prepared and presented presentations to the client and team members new to the project.Prepared engineering conceptual design drawings.Prepared engineering design, material and labor estimates for all phases.Prepared the engineering design schedule, deliverables and scope narrative for all phases.Reviewed engineering design drawings.Updated process control equipment lists and cut-over plans for the refinery.Prepared fiber optic cable schedules to be incorporated into the overall fiber optic infrastructure.Updated engineering design weekly and monthly progress reports for the project.Frequently visited the refinery for field surveys.Jacobs Engineering, Inc,-Electrical Engineer for the TCACP ProjectCity,STATE,-Supported and contributed to Phases III and IV of the Electrical Power System Design for the Texas City Automation and Controls Program (TCACP) that involves upgrading the controls and automation for Marathon Petroleum's Galveston Bay Refinery in Texas City.Prepared load lists for the power design of one of the units in the refinery.Prepared material requisitions for purchasing electrical equipment and material.Checked electrical cable, fiber cable and cable conduit on plan drawings.Checked fiber, Ethernet and data cable wiring on wiring diagrams.Verified cable tray and fittings on Material Take-Offs (MTOs).Updated engineering design weekly reports and monthly progress for the project.Frequently visited the refinery for field surveys.Jacobs Engineering, Inc.-Electrical Engineer for the Flint Hills DDS ProjectCity,STATE,-Contributed to Phase IV of the Electrical Design of the Distillate Desulfurizer project (DDS).Prepared and ran calculations for Cable Ampacity and Conduit Fill using AmpCalc software.Prepared and checked Electrical Schematic Diagrams.Checked drawings for Area Classifications.Contributed to the Lighting Material Take-Off (MTO).Reviewed vendor drawings related to Switchgears, Load Centers, Motor Control Centers (MCCs), and Motors.Bechtel National, Inc-Lead Resident Electrical/Controls EngineerCity,STATE,06/2004-09/2008Contributed in completing the Electrical Design for the Pueblo Chemical Agent-Destruction Pilot Plant (PCAPP) project that includes first-of-a-kind technology that will neutralize mustard agent in projectiles at the U.S.Army Pueblo Chemical Depot (Department of Defense).Reviewed Piping and Instrument Diagrams and interpreted Logic Diagrams into Electrical Circuit Block Diagrams to incorporate circuit design.Prepared Electrical Schematic Diagrams and Panel Schedules.Responsible Engineer for Vendor Packages.Administrated Bechtel's SETROUTE cable scheduling system database for the project.Trained team members new to the project.Bechtel National, Inc.-Lead Electrical/Controls Engineer for the PCAPP ProjectCity,STATE,-Contributed to the initial Electrical Design Phase for the project.Prepared and checked system packages for DOD (client) review.Administrated Bechtel\\u2019s SETROUTE cable scheduling system database for the project.Assigned and coordinated work between Engineering Team members for the completion of work packages.Bechtel National, Inc.-Electrical Engineer for the WTP ProjectCity,STATE,-Supported the Electrical Design for the Waste Treatment and Immobilization Plant (WTP) Project that involves the vitrification process (waste to glass) that will stabilize the radioactive and chemical waste left from the Manhattan Project and Cold War nuclear material production at Hanford (DOE).Prepared system calculations including voltage drop, short circuit, current and cable ampacities.Used the Electrical Transient Analyzer Program (ETAP) for load flow, short circuit and motor starting analysis.Used the Power Plot Program for plotting Time versus Current Characteristic curves for circuit protection devices.Used the MicroStation Program for 2D drafting of existing project designs, i.e. Single Line Diagrams.\\nSkillsSoftwareVarious PC utilities; Windows; Microsoft Office; C, C++, Fortran 77, Visual Basic, SPIM assembly machine language; PSpice (electronics tool); Electronics Workbench; Mathematica; Mat Lab; FrontPage; ETAP; Power Plot; SETROUTE (cable management tool); Amp Calc (conduit fill and cable ampacity calculation tool); Block Draw; Micro Station V8 2D, and EIT (project progressing tool).\",\n          \"ProfileHas a Master\\u2019s of Science Degree in Management Information Systems with Business Intelligence Concentration.Has \\u00a05+ \\u00a0years of experience working as a SQL server Developer, SQL DBA, and Data Analyst with excellent analytical and problem-solving skills to work with minimal supervision.Strong knowledge and experience of RDBMS like MS SQL Server 2008 R2/2012, MS Access, MySQL and T-SQL (queries, stored procedures).Strong knowledge and experience in Business Intelligence \\u2013SSIS, SSRS, SSAS, Power BI ( Power Pivot, Power Query, Power View, Power Map and Pivot Table,).Experience in Windows server 2008/2012 Active Directory Administration(Users and Computers, DNS, DHCP)Experience with data analysis and visualization tools like Excel and Tableau\\nCore QualificationsBusiness Intelligence /Data AnalyticsDatabase Development /AdministrationWindows Server AdministrationWindows AzureData warehouse/Data MiningMicrosoft OfficeWeb DesignAmazon Web Services\\nTechnical SkillsSQL Server, MS Access, MS Excel, MYSQLSSIS, SSAS,\\nSSRS, Power BIT-SQL, VBA (MS Access), Excel MacrosTableauRapidMiner, XLMiner (Data Mining)HTML, CSS,\\u00a0WordPress, Dreamweaver, Photoshop, JavaScript\\nProfessional ExperienceSQL Devloper/DBA/Data Analyst,09/2012-03/2015Market Footwear, Fred Lurie Associate Inc.\\u2013City,STATE,Responsibilities:Created ETL packages involving various data sources (SQL Server, Flat Files, Excel source files, \\u00a0etc) \\u00a0using MS SSISDeveloped data quality solution using SQL Server data services (DQS) as part of ETLAnalyzed data using using SSAS, Excel, Tableau and Power BI tools for decision making processBuilt Self Service Business Intelligence \\u00a0dashboards using Power BI tools in Excel.Wrote T-SQL queries \\u00a0for data Analysis and ReportingDeveloped reports using MS SQL Server Reporting Services (SSRS) and ExcelHelped decision makers to understand data on reports and dashboards and gain insights.Installed, administered and maintained MS SQL Server 2008/2012, including upgrades, security, configuration and service packsDesigned, implemented, and maintained SQL Server databases.Designed and implemented tables, views, functions, stored procedures and triggers in SQL Server.Planned and implemented SQL Server Security and database permissionsPerformed \\u00a0Database Performance Analysis and Tuning using Database Engine Tuning Advisor, SQL\\u00a0Server Profiler and SQL Server Extended EventsSetup High-Availability as part Disaster Recovery Strategy for the SQL server 2012 databases (Failover Clustering, Database Mirroring, Log Shipping and Replication).SQL Server developer/DBA,07/2009-08/2012Cifra Systems\\u2013City,STATE,Responsibilities:As a mid-level DBA, Installed, configured, administered and secured SQL servers 2008/2008 R2.Created and optimize database objects, e.g. Tables, Views, indexes, cursors, stored procedures, functions and Triggers.Scheduled and automated maintenance plans using SQL Server Job Agent.Scheduled and automated full/differential/transactional backups and implemented recovery strategies.Configured and monitored database Mirroring, Replication and Log Shipping as HADR strategy.Planned and implemented SQL Server Security and database permissionsExtensively used Joins and sub-queries for complex queries involving multiple tables.Created indexes (clustered and non-clustered) \\u00a0to speed up query performance.Designed Excel dashboard \\u00a0for tabular and chart reports with drill down \\u00a0functionality.Web Designer/SQL DBA/Developer/Media Specialist,02/2005-04/2009Miami Christians Fellowship\\u2013City,STATE,Designed desktop database application in MS Access using VBADeveloped financial report using MS Access and ExcelCreated website for the organization utilizing HTML, WORDPRESS, CSS, PHP, MSSSQL and MYSQLPerformed regular website maintenance and update while also designing graphics for banners, flyers, and postersRecorded and edited videos to be distributed in DVD , CD format and upload them to organization\\u2019s websiteTrained staff members how to utilize computers, use software to maintain website and other media support servicesWeb Developer and Database Support,07/2003-2005Hotsilhouette, Inc.\\u2013City,STATE,Responsibilities:Developed and maintained \\u00a0company's websites using Dreamweaver, HTML, CSS, ASP.NET, JavaScript.Designed and managed back-end SQL Server databases for web applications.Wrote complex T-SQL queries to manipulate \\u00a0dataDesigned and edited graphics and\\u00a0photos for websites using Photoshop.Installed, Configured and managed SQL Server and Access databases.Analyzed sales data from different sources and created dashboards\\u00a0using MS Excel.Provided technical computer support to end users.\\nEducationMaster of Science:Management Information Systems,Expected in2015-Nova Southeastern University-Fort Lauderdale,FLGPA:Status-Concentration: Business IntelligenceAssociate of Science:Computer Programming and Analysis,Expected in2003-Miami Dade College-Miami,FLGPA:Status-Bachelor of Science:Agriculture (Plant Science),Expected in1988-Haremaya University Of Agriculture-Haremaya,HarerGPA:Status-\",\n          \"Professional BackgroundHighly motivated professional seeking opportunity to obtain a challenging position with Florida Blue that will fully allow me to utilize my education, skills, loyalty and work ethics where initiative and accomplishments will be the basis for professional advancement and mutual growth.\\nTechnical SkillsMicrosoft Windows 8, Microsoft Word, Excel,  Outlook, PowerPoint,  Access.Provider Information Platform (PIP), Diamond DFS, Diamond Maintenance Tool PROD DFS (DMT), PFE, IMS,  EVerify, FedEx shipping and tracking, UPS shipping and tracking.Siebel queue inventory management, and Client Letter.Experience in building and Maintaining strong business relationships.Experience with health care industry, business related process and delivery system.Strong written and verbal communication.speak and write both French and Creole.Critical thinking\\nEducation and TrainingBachelor of Science:Health Service Administration,Expected in2014toUniversity of Central Florida-Orlando,FLGPA:Health Service Administration\\nProfessional ExperienceProvider Data Service Analyst II,04/2010to09/2015National Vision\\u2013Grand Rapids,MI,Duties include preparation and execution of provider contracts, loading contracts fee schedules and benchmarks, maintaining provider data such as demographic information.Problem solving to ensure contract arrangements enable the accurate adjudication of claims payments and assistance in contract administration.Identify trends and problems through an assessment of practices, and develop new processes and activities and build a business case for execution, incorporation or adaptation.Participation in the creation of, and compliance with, provider policies and procedures dealing directly with dedicated provider groups.Ensure appropriate investigation  and issue  resolution, loading and maintenance of contracting arrangements containing several lines of business for provider contracts and provider demographic data in multiple claims administration systems, including but not limited to PIP (Provider Information Platform) and Diamond DFS.Configures provider payment arrangements through integration of provider contractual arrangements, product & benefit standards, in order to facilitate accurate claims payment.Coordinate with operational areas and other departments within the delivery system such as network management for due diligence.Resolves provider data and payment discrepancies by interpreting contract language and apply appropriate pricing methodologies and contractual arrangements to facilitate accurate and timely resolution of provider claims payment issues.Build and maintain strong relationship business relationship whether internal or external.Provide dedicated management of provider demographic data and contract arrangements for Minute Clinic, Take Care Health, and CareSpot.Ensure integration and coordination with all Florida Blue Operational areas.Consultant on development of business requirements for provider maintenance and contracting under new Provider Information Management System (PIMS).(Analyst II) Contractor,04/2010to01/2012Blue Cross Blue Shield Of Florida\\u2013City,STATE,Duties include coordination of contract loads and maintenance of provider data files.Experience in collaborating and building strong relationships with internal and external business partners promoting positive results.Negotiating with external business partners to achieve and influence customer outcomes and meet the targeted set leadership goals.Coordinate activities for continuous improvement efforts.Perform special projects tied to managing territories targeted for Network expansion and associated priorities, action plans and tasks set to meeting targeted outcomes.Perform and lead special initiatives by identifying, developing, recommending, and implementing process, procedure and product.Proficiency in interpreting provider reimbursement methodologies.Coordination with business partners and network management on fee schedule builds that apply to contract reimbursement.In depth knowledge of provider payment programs and billing practices such as coding, subject matter, expert tools (PIP, Diamond, Siebel, DMT, Online Provider Directory and other delivery system tools) and processes to support temporary resource projects.Responsible for following all process and procedures for the four core PPDO business processes, of which include Contracting, Registration, Maintenance and Termination.Confirming that information loaded to provider's files interface to all systems and loading necessary fee schedule history of HMO, MM, NWB, NWMBA, PPC, PPS, MDS, MDB, BSC and PFS lines of business.Assistant Manager,11/2006to07/2009Seven-Eleven\\u2013City,STATE,Prepared and presented training materials to new employees.Ensured that the store met CDC regulations by regularly performing inventory reports.Monitor, evaluate, and take action to improve individual and team target goals.Planned and established work schedules (e.g., vacations, work shift, coverage for absent team members.)Provided motivation, inspiration, and developmental support to staff through coaching, providing feedback, reward and recognition.\\nSkillsbilling, BSC, business case, business processes, cashiering, coach, coaching, Consultant, continuous improvement, contract administration, contracts, Client, excellent customer service, delivery, due diligence, French, health care industry, IMS, inspiration, Internet Explorer, inventory management, inventory, team building, leadership, leadership skills, managing, Microsoft Access, Microsoft Excel, Microsoft Outlook, Microsoft PowerPoint, Microsoft Windows 7, Microsoft Word, Negotiating, network management, Network, organizational skills, performance appraisals, policies, presenting, pricing, Problem solving, processes, producing, coding, project management, shipping, Siebel, training materials, verbal communication skills, written\"\n        ],\n        \"semantic_type\": \"\",\n        \"description\": \"\"\n      }\n    },\n    {\n      \"column\": \"job_description_text\",\n      \"properties\": {\n        \"dtype\": \"category\",\n        \"num_unique_values\": 280,\n        \"samples\": [\n          \"Job Purpose: Perform designated tasks in the area of technical sub-ledger accounting related to all lines of business. Perform and review tasks related to period end financial closing.\\nKey Responsibilities:Investigate and resolve discrepancies by actively collaborating and communicating across departments. Create policies and procedures for developing areas such as the Surety accounting.Review accounting entries posted to the general ledger to ensure proper accounting treatment.Work closely with other teams to ensure proper premium accounting and make manual corrections as needed.Prepare complex monthly bank reconciliations. Responsible for reconciling intercompany AP, AR, and P&L for all other BUs.Perform complex manual processes necessary to maintain proper accounting records and develop ways to automate them.Present to management premium results monthly including thorough explanations on insurance revenues, service revenues, and bad debt. Able to speak to analytical results.Perform regular analytics prior to, during, and post monthly close.Investigate and resolve discrepancies and fluctuations resulting from analytics performed by collaborating with other teams to determine accurate results.Responsible for preparing documentation and providing explanations as requested by internal and external auditors and regulators. \\nKey Experience:7+ years accounting experience4+ years as a seasoned senior accountantPublic accounting a plusKnowledge of insurance accounting a plus\\nKey Requirements:Bachelors Degree in Accounting  Finance Accounting and technical know-how, basis for understanding of accounting, and advanced technical systems. Good knowledge of MS Office suiteWillingness to work overtime as needed to meet monthly deadlinesStrong analytical, critical thinking & problem solving skillsStrong aptitude for accuracy and attention to detailExcellent written and verbal communication skills.Strong organizational skills and ability to manage deadlines. Ability to collaborate and influence internal partners to set up corrective action plansHigh level of initiative & ability to be autonomousAble to multi task\",\n          \"Title: Data EngineerLocation: Ada MI (Need Locals to MI)Contract: 6+ Months\\nRequirement:Data EngineerAdministrator (mid-level at least)a. Data bricks, Pythonb. Focus on data administration; ETL; data management activities.c. Azure CloudData Stack; Informatica or other ETL.\",\n          \"We are in the process of identifying candidates for a Electronic Engineer position with an acoustics, weapon launch and control systems, surveillance technology consulting firm. Location: Manassas, VA (Hybrid)Requirement: US Citizen, Active Secret (Will Sponsor a Secret Clearance)Job Description:An Electrical Engineer with 3 to 10 years of technical experience to become an integral member of the engineering team dedicated to the development of military-grade electronics and electronic warfare (EW) systems. Responsibilities  Analyze and design analog and digital electronic circuits including analog signal conditioning, DC-DC power conversion, and communication interfaces Integrate, test, troubleshoot, and verify electrical hardware Develop test criteria and assist in the design of test systems Perform component and architecture trade studies to determine optimal system solutions to design hardware and electronics based on commercial and industry components and technologies Knowledge, Skills and Abilities Experience with the engineering development life cycle, including concept, requirements, design, implementation, and test phases Experience with design and debug of switch mode DC-DC converters including knowledge of control loop stability analysis Working knowledge of common communication interfaces such as RS-422, RS-485, and LVDS Experience with lab equipment including signal generators, high speed oscilloscopes, and digital logic analyzers   Would you be interested in discussing the details? (Project Scope, Pay, Logistics and others). At your earliest convenience, please give me a call ASAP at 703-466-5051 or hkubota@sparksgroupinc.com  If you know anybody that might be interested with this position, we appreciate for the referral.\"\n        ],\n        \"semantic_type\": \"\",\n        \"description\": \"\"\n      }\n    },\n    {\n      \"column\": \"label\",\n      \"properties\": {\n        \"dtype\": \"category\",\n        \"num_unique_values\": 3,\n        \"samples\": [\n          \"No Fit\",\n          \"Potential Fit\",\n          \"Good Fit\"\n        ],\n        \"semantic_type\": \"\",\n        \"description\": \"\"\n      }\n    }\n  ]\n}"
            }
          },
          "metadata": {},
          "execution_count": 6
        }
      ]
    },
    {
      "cell_type": "code",
      "source": [
        "import string\n",
        "import nltk\n",
        "from nltk.corpus import stopwords\n",
        "from nltk.tokenize import word_tokenize\n",
        "from nltk.stem import WordNetLemmatizer\n",
        "from sklearn.metrics.pairwise import cosine_similarity\n",
        "from sklearn.feature_extraction.text import TfidfVectorizer"
      ],
      "metadata": {
        "id": "kgXEkHbCV_Ty"
      },
      "execution_count": 7,
      "outputs": []
    },
    {
      "cell_type": "code",
      "source": [
        "# Baixar recursos do NLTK\n",
        "nltk.download('punkt_tab')\n",
        "nltk.download('stopwords')\n",
        "nltk.download('wordnet')\n",
        "nltk.data.path.append('/kaggle/input/nltk-data')"
      ],
      "metadata": {
        "colab": {
          "base_uri": "https://localhost:8080/"
        },
        "id": "sW0Gpvt5WD2J",
        "outputId": "e6a5f28b-6ef1-4291-81ee-065f670ac4fd"
      },
      "execution_count": 12,
      "outputs": [
        {
          "output_type": "stream",
          "name": "stderr",
          "text": [
            "[nltk_data] Downloading package punkt_tab to /root/nltk_data...\n",
            "[nltk_data]   Unzipping tokenizers/punkt_tab.zip.\n",
            "[nltk_data] Downloading package stopwords to /root/nltk_data...\n",
            "[nltk_data]   Package stopwords is already up-to-date!\n",
            "[nltk_data] Downloading package wordnet to /root/nltk_data...\n",
            "[nltk_data]   Package wordnet is already up-to-date!\n"
          ]
        }
      ]
    },
    {
      "cell_type": "code",
      "source": [
        "lemmatizer = WordNetLemmatizer()\n",
        "stop_words = set(stopwords.words('english'))"
      ],
      "metadata": {
        "id": "e-Ptko0eWGFw"
      },
      "execution_count": 13,
      "outputs": []
    },
    {
      "cell_type": "code",
      "source": [
        "# Função para limpar o texto\n",
        "def preprocess_text(text):\n",
        "    # Transformar o texto para minúsculas\n",
        "    text = text.lower()\n",
        "\n",
        "    # Tokenizar o texto\n",
        "    tokens = word_tokenize(text)\n",
        "\n",
        "    # Remover stopwords e pontuação, e lematizar\n",
        "    tokens = [lemmatizer.lemmatize(word) for word in tokens if word not in stop_words and word not in string.punctuation]\n",
        "\n",
        "    # Reconstruir o texto\n",
        "    return ' '.join(tokens)"
      ],
      "metadata": {
        "id": "SYkeQVWlWHla"
      },
      "execution_count": 14,
      "outputs": []
    },
    {
      "cell_type": "code",
      "source": [
        "# Aplicar a função preprocess_text nas colunas\n",
        "df['processed_resume_text'] = df['resume_text'].apply(preprocess_text)\n",
        "df['processed_job_description_text'] = df['job_description_text'].apply(preprocess_text)\n",
        "\n",
        "# Verificar as primeiras linhas para ver o resultado\n",
        "print(df[['resume_text', 'processed_resume_text', 'job_description_text', 'processed_job_description_text']].head())\n",
        "\n",
        "df.to_csv(\"dataset_processado.csv\", index=False)\n"
      ],
      "metadata": {
        "colab": {
          "base_uri": "https://localhost:8080/"
        },
        "id": "mVOmQ2goWJS_",
        "outputId": "a789e3c8-2d88-4f0d-a273-5ac19909e3d1"
      },
      "execution_count": 15,
      "outputs": [
        {
          "output_type": "stream",
          "name": "stdout",
          "text": [
            "                                         resume_text  \\\n",
            "0  SummaryHighly motivated Sales Associate with e...   \n",
            "1  Professional SummaryCurrently working with Cat...   \n",
            "2  SummaryI started my construction career in Jun...   \n",
            "3  SummaryCertified Electrical Foremanwith thirte...   \n",
            "4  SummaryWith extensive experience in business/r...   \n",
            "\n",
            "                               processed_resume_text  \\\n",
            "0  summaryhighly motivated sale associate extensi...   \n",
            "1  professional summarycurrently working caterpil...   \n",
            "2  summaryi started construction career june 2017...   \n",
            "3  summarycertified electrical foremanwith thirte...   \n",
            "4  summarywith extensive experience business/requ...   \n",
            "\n",
            "                                job_description_text  \\\n",
            "0  Net2Source Inc. is an award-winning total work...   \n",
            "1  At Salas OBrien we tell our clients that were ...   \n",
            "2  Schweitzer Engineering Laboratories (SEL) Infr...   \n",
            "3  Mizick Miller & Company, Inc. is looking for a...   \n",
            "4  Life at Capgemini\\nCapgemini supports all aspe...   \n",
            "\n",
            "                      processed_job_description_text  \n",
            "0  net2source inc. award-winning total workforce ...  \n",
            "1  salas obrien tell client engineered impact pas...  \n",
            "2  schweitzer engineering laboratory sel infrastr...  \n",
            "3  mizick miller company inc. looking dynamic ind...  \n",
            "4  life capgemini capgemini support aspect well-b...  \n"
          ]
        }
      ]
    },
    {
      "cell_type": "code",
      "source": [
        "# Contar as ocorrências de cada classe na coluna 'label'\n",
        "label_counts = df['label'].value_counts()\n",
        "\n",
        "# Configurar o gráfico\n",
        "plt.figure(figsize=(8, 6))\n",
        "sns.barplot(x=label_counts.index, y=label_counts.values, palette='viridis')\n",
        "\n",
        "# Títulos e rótulos\n",
        "plt.title('Distribuição de Pessoas por Classe na Coluna \"label\"', fontsize=14)\n",
        "plt.xlabel('Classe', fontsize=12)\n",
        "plt.ylabel('Quantidade de Pessoas', fontsize=12)\n",
        "\n",
        "\n",
        "plt.show()"
      ],
      "metadata": {
        "colab": {
          "base_uri": "https://localhost:8080/",
          "height": 660
        },
        "id": "u41IHcHLW-Vm",
        "outputId": "4da9d826-4c78-4a7b-c8dd-28920dcba9cb"
      },
      "execution_count": 16,
      "outputs": [
        {
          "output_type": "stream",
          "name": "stderr",
          "text": [
            "<ipython-input-16-746d06b030b0>:6: FutureWarning: \n",
            "\n",
            "Passing `palette` without assigning `hue` is deprecated and will be removed in v0.14.0. Assign the `x` variable to `hue` and set `legend=False` for the same effect.\n",
            "\n",
            "  sns.barplot(x=label_counts.index, y=label_counts.values, palette='viridis')\n"
          ]
        },
        {
          "output_type": "display_data",
          "data": {
            "text/plain": [
              "<Figure size 800x600 with 1 Axes>"
            ],
            "image/png": "[encoded data removed]"
          },
          "metadata": {}
        }
      ]
    },
    {
      "cell_type": "code",
      "source": [
        "qtd = df.groupby('label').size()\n",
        "print(qtd)"
      ],
      "metadata": {
        "colab": {
          "base_uri": "https://localhost:8080/"
        },
        "id": "cfpX1csGXpth",
        "outputId": "b02edd88-debd-4ca6-98c2-4a984cfee8c4"
      },
      "execution_count": 17,
      "outputs": [
        {
          "output_type": "stream",
          "name": "stdout",
          "text": [
            "label\n",
            "Good Fit         1542\n",
            "No Fit           3143\n",
            "Potential Fit    1556\n",
            "dtype: int64\n"
          ]
        }
      ]
    },
    {
      "cell_type": "code",
      "source": [
        "# Vetorizar os textos com TF-IDF\n",
        "vectorizer = TfidfVectorizer()\n",
        "tfidf_matrix = vectorizer.fit_transform(df['processed_resume_text'] + ' ' + df['processed_job_description_text'])\n",
        "\n",
        "# Dividir a matriz TF-IDF em duas partes: currículos e descrições de vagas\n",
        "resume_tfidf = tfidf_matrix[:len(df)]\n",
        "job_description_tfidf = tfidf_matrix[len(df):]  # Corrected slicing\n",
        "\n",
        "# Calcular similaridade de cosseno entre os textos\n",
        "cos_sim = cosine_similarity(resume_tfidf, resume_tfidf)\n",
        "\n",
        "# Exibir a similaridade entre os currículos e as descrições das vagas\n",
        "print(cos_sim)\n"
      ],
      "metadata": {
        "colab": {
          "base_uri": "https://localhost:8080/"
        },
        "id": "y892j2X1Xyte",
        "outputId": "0caabc57-0237-4fb3-ae7d-bcb00fd249d4"
      },
      "execution_count": 20,
      "outputs": [
        {
          "output_type": "stream",
          "name": "stdout",
          "text": [
            "[[1.         0.09353355 0.10532032 ... 0.08527887 0.04541556 0.06267739]\n",
            " [0.09353355 1.         0.15297918 ... 0.10342079 0.09030099 0.06319154]\n",
            " [0.10532032 0.15297918 1.         ... 0.107282   0.06536225 0.04254418]\n",
            " ...\n",
            " [0.08527887 0.10342079 0.107282   ... 1.         0.04938401 0.22585775]\n",
            " [0.04541556 0.09030099 0.06536225 ... 0.04938401 1.         0.02593037]\n",
            " [0.06267739 0.06319154 0.04254418 ... 0.22585775 0.02593037 1.        ]]\n"
          ]
        }
      ]
    },
    {
      "cell_type": "code",
      "source": [
        "# Encontrar o índice dos maiores valores fora da diagonal\n",
        "# Vamos primeiro criar uma cópia da matriz de similaridade e remover a diagonal\n",
        "cos_sim_no_diag = np.copy(cos_sim)\n",
        "np.fill_diagonal(cos_sim_no_diag, 0)\n",
        "\n",
        "# Encontrar os índices dos maiores valores (maior similaridade)\n",
        "# Vamos encontrar os índices do maior valor de similaridade\n",
        "max_sim_idx = np.unravel_index(np.argmax(cos_sim_no_diag), cos_sim_no_diag.shape)\n",
        "\n",
        "# Obter os índices dos currículos e das descrições de vaga mais semelhantes\n",
        "resume_idx, job_desc_idx = max_sim_idx\n",
        "\n",
        "# Exibir os textos mais semelhantes\n",
        "print(f\"Currículo mais semelhante ao job description {job_desc_idx}:\\n{df['processed_resume_text'].iloc[resume_idx]}\")\n",
        "print(f\"\\nDescrição de vaga mais semelhante ao currículo {resume_idx}:\\n{df['processed_job_description_text'].iloc[job_desc_idx]}\")\n"
      ],
      "metadata": {
        "colab": {
          "base_uri": "https://localhost:8080/"
        },
        "id": "-Ne7Ge4qZMEl",
        "outputId": "bd361b11-9b61-4bc7-bdff-52a5c315c125"
      },
      "execution_count": 21,
      "outputs": [
        {
          "output_type": "stream",
          "name": "stdout",
          "text": [
            "Currículo mais semelhante ao job description 5153:\n",
            "qualifications• two year experience data analysis loyola chicago university providing statistical analysis plan generating report table graph proficient r sas.• proficient microsoft office word excel power point.• ability effectively organize manage multiple assignment hard deadlines.• great team player extensive experience skill collaboration communication professional experience09/2016tocurrentdata analyst internenvestnet|secaucus nj • merge spreadsheet different source create compact centralized data platform easy updating data analysis using m excel advanced function formulas.• data cleaning data validation existing spreadsheet promote robust data management platform accurate data entry data analysis.• train employee use pivot table tip trick m excel efficient data entry analysis.07/2013to04/2014research assistantsuny upstate medical university|syracuse ny supervisor drs michael crum david rayome paper self-employment subjective well-being multi-country analysis using world value survey international journal entrepreneurship published 2014 • statistical analysis element influencing self-employment life happiness using r studio• literature research topic self-employment satisfaction04/2012to07/2012accounting internshipamica mutual insurance|park ridge ,• provide data management accounting journal using government-secured software• prepare written report asset inspection sorted documents04/2011to07/2011finance internshipsiemens corporation|wichita ,• sale consultant financial product service educationexpected in2016totomaster science|applied statisticsloyola chicago university chicago ilgpa expected in2013totobachelor science|finance risk managementnorthern michigan university marquette migpa skillscomputer software m word powerpoint excel access statisticalsoftware r studio sa minitab sqllanguage mandarin english\n",
            "\n",
            "Descrição de vaga mais semelhante ao currículo 381:\n",
            "calling data nerd love finance 're data wiz tired sitting behind system 100 percent time role offer best world 50 technical tableau ownership 50 fp support fp component mean building relationship work magic tableau developing professional presentation relationship-building skill role perfect next step want well-rounded polished highly technical analyst apply today message lizzie learn lizzie.schaut ambrion.com responsibility build report dashboard using tableau support annual budget preparation forecastingpartner business leader analyze financial data present key trend resultsdevelop financial forecasting model data collection analysis qualification bachelor 's degree accounting finance business administration4+ year experience accounting finance-related roletableau experience required advanced proficiency microsoft excel job reference 9323\n"
          ]
        }
      ]
    }
  ],
  "metadata": {
    "colab": {
      "provenance": [],
      "authorship_tag": "ABX9TyPyB3hvL8hv14AuiveFgeoH",
      "include_colab_link": true
    },
    "kernelspec": {
      "display_name": "Python 3",
      "name": "python3"
    },
    "language_info": {
      "name": "python"
    }
  },
  "nbformat": 4,
  "nbformat_minor": 0
}